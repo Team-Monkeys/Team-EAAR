{
 "cells": [
  {
   "attachments": {},
   "cell_type": "markdown",
   "metadata": {},
   "source": [
    "# Test Notebook\n",
    "> Testing...\n",
    "\n",
    "- title: Test Notebook\n",
    "- author: Team EAAR\n",
    "- toc: true\n",
    "- comments: true\n",
    "- categories: [test]\n",
    "- badges: true"
   ]
  }
 ],
 "metadata": {
  "kernelspec": {
   "display_name": "Python 3",
   "language": "python",
   "name": "python3"
  },
  "language_info": {
   "name": "python",
   "version": "3.10.6"
  },
  "orig_nbformat": 4
 },
 "nbformat": 4,
 "nbformat_minor": 2
}
